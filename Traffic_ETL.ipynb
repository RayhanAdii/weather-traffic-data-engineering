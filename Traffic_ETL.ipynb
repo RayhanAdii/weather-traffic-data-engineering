{
 "cells": [
  {
   "cell_type": "code",
   "execution_count": 1,
   "id": "2a0031d7-d3af-4fb2-8500-296e87dd7cea",
   "metadata": {},
   "outputs": [
    {
     "name": "stdout",
     "output_type": "stream",
     "text": [
      "{'flowSegmentData': {'frc': 'FRC3', 'currentSpeed': 20, 'freeFlowSpeed': 25, 'currentTravelTime': 476, 'freeFlowTravelTime': 380, 'confidence': 1, 'roadClosure': False, 'coordinates': {'coordinate': [{'latitude': -7.775915122920772, 'longitude': 110.37372155908088}, {'latitude': -7.775939114784156, 'longitude': 110.37371442112573}, {'latitude': -7.775823065501294, 'longitude': 110.37368207762717}, {'latitude': -7.775462095468249, 'longitude': 110.37382837447575}, {'latitude': -7.775001595671484, 'longitude': 110.3740131117246}, {'latitude': -7.774754363812576, 'longitude': 110.37412499344799}, {'latitude': -7.774712552414544, 'longitude': 110.37418771592155}, {'latitude': -7.77469053221833, 'longitude': 110.37419719465396}, {'latitude': -7.774040699969358, 'longitude': 110.37446547063104}, {'latitude': -7.773892623055187, 'longitude': 110.37453111709175}, {'latitude': -7.773636495283049, 'longitude': 110.37464261537048}, {'latitude': -7.773684815908176, 'longitude': 110.37462168570482}, {'latitude': -7.773607789931607, 'longitude': 110.37461222165632}, {'latitude': -7.773302742976382, 'longitude': 110.37474497559214}, {'latitude': -7.77318631026815, 'longitude': 110.37479179080799}, {'latitude': -7.772551008286387, 'longitude': 110.37505163520922}, {'latitude': -7.772321956640143, 'longitude': 110.37515149501559}, {'latitude': -7.771746290402602, 'longitude': 110.37538336332688}, {'latitude': -7.771665705752622, 'longitude': 110.37541737619773}, {'latitude': -7.771460543743084, 'longitude': 110.3754960569579}, {'latitude': -7.771315816819528, 'longitude': 110.37556224020346}, {'latitude': -7.771005513728731, 'longitude': 110.37568584080157}, {'latitude': -7.770795026962836, 'longitude': 110.37576661180015}, {'latitude': -7.770771523018969, 'longitude': 110.37577574183348}, {'latitude': -7.770272613069695, 'longitude': 110.37596598717903}, {'latitude': -7.769622059946656, 'longitude': 110.3762776198185}, {'latitude': -7.769340621123551, 'longitude': 110.37639805231089}, {'latitude': -7.769324845946047, 'longitude': 110.37640461780774}, {'latitude': -7.769053556933365, 'longitude': 110.37652036152105}, {'latitude': -7.768653462894778, 'longitude': 110.37665596861501}, {'latitude': -7.768541197310195, 'longitude': 110.37670405582736}, {'latitude': -7.768191440410501, 'longitude': 110.37684607629814}, {'latitude': -7.767961494015971, 'longitude': 110.37693860058619}, {'latitude': -7.766838183172715, 'longitude': 110.37740855415319}, {'latitude': -7.765642565632282, 'longitude': 110.37788142180409}, {'latitude': -7.765563393986644, 'longitude': 110.37791514294321}, {'latitude': -7.765493244735251, 'longitude': 110.37794466154537}, {'latitude': -7.765234418579212, 'longitude': 110.37804873936636}, {'latitude': -7.765149430729204, 'longitude': 110.37808622061334}, {'latitude': -7.764674019652466, 'longitude': 110.37828803647454}, {'latitude': -7.764247479528184, 'longitude': 110.37846837330841}, {'latitude': -7.76413496452879, 'longitude': 110.37851677155794}, {'latitude': -7.763609257843175, 'longitude': 110.3787333915185}, {'latitude': -7.763562476461762, 'longitude': 110.37875210177049}, {'latitude': -7.763455065159768, 'longitude': 110.37879363759959}, {'latitude': -7.762756617566504, 'longitude': 110.37909068747746}, {'latitude': -7.762607533403107, 'longitude': 110.37914746596903}, {'latitude': -7.762521956339303, 'longitude': 110.37918651956011}, {'latitude': -7.762183052740741, 'longitude': 110.37932727718015}, {'latitude': -7.761897958774807, 'longitude': 110.37944670330643}, {'latitude': -7.761838554946022, 'longitude': 110.37946859922954}, {'latitude': -7.761816301018745, 'longitude': 110.37947654956656}, {'latitude': -7.761775840804969, 'longitude': 110.3794919678399}, {'latitude': -7.761468024506915, 'longitude': 110.37961564876093}, {'latitude': -7.761182085315307, 'longitude': 110.37973242414046}, {'latitude': -7.760882337843507, 'longitude': 110.3798531331114}, {'latitude': -7.760807040668669, 'longitude': 110.37988296223597}, {'latitude': -7.760399473750516, 'longitude': 110.38005345634326}, {'latitude': -7.76011545595877, 'longitude': 110.38018014935648}, {'latitude': -7.759790711256881, 'longitude': 110.38031403146414}, {'latitude': -7.759612802738701, 'longitude': 110.38039081122633}, {'latitude': -7.759370958809408, 'longitude': 110.38048282343959}, {'latitude': -7.759226131670657, 'longitude': 110.38054268166309}, {'latitude': -7.759042984738892, 'longitude': 110.38061593905331}, {'latitude': -7.758833953821955, 'longitude': 110.38070396896552}, {'latitude': -7.758399517185373, 'longitude': 110.38088623550539}, {'latitude': -7.758227618677274, 'longitude': 110.38096473161312}, {'latitude': -7.757742063485847, 'longitude': 110.38117134149894}, {'latitude': -7.757080040946125, 'longitude': 110.38145015863341}, {'latitude': -7.756776346632422, 'longitude': 110.38156818309062}, {'latitude': -7.756500968351631, 'longitude': 110.38168064925134}, {'latitude': -7.755966966654424, 'longitude': 110.38192689970953}, {'latitude': -7.755756697701017, 'longitude': 110.3820261100754}, {'latitude': -7.755491559588681, 'longitude': 110.38216984587007}, {'latitude': -7.755223618097399, 'longitude': 110.38230781607274}, {'latitude': -7.754799342203913, 'longitude': 110.38253724480131}, {'latitude': -7.754571562042252, 'longitude': 110.38266696772496}, {'latitude': -7.754513843166174, 'longitude': 110.38270758350194}, {'latitude': -7.754468243097399, 'longitude': 110.38273844782822}, {'latitude': -7.754395830927124, 'longitude': 110.38279095223436}, {'latitude': -7.754350100539829, 'longitude': 110.38282287721898}, {'latitude': -7.75419741317883, 'longitude': 110.38293488372011}]}, '@version': 'traffic-service-flow 1.0.100'}}\n"
     ]
    }
   ],
   "source": [
    "import requests\n",
    "import pandas as pd\n",
    "import json\n",
    "\n",
    "api_url = \"https://api.tomtom.com/traffic/services/4/flowSegmentData/relative/10/json?key=GyrwSRUHGsEJP9wCFTGyvWx2LSCGaOtN&point=-7.761175,110.380499\"  # Replace with the API URL you want to fetch data from\n",
    "response = requests.get(api_url)\n",
    "\n",
    "\n",
    "if response.status_code == 200:\n",
    "    #print(response.json())\n",
    "    data = response.json()  # Assuming the API returns JSON data\\\n",
    "    #df = pd.json_normalize(data, 'flowSegmentData.coordinates.coordinate')\n",
    "    #data = json.loads(data)\n",
    "    #coordinates_data = data[\"coordinates\"]\n",
    "    #df = pd.DataFrame(data)\n",
    "else:\n",
    "    print(\"Failed to fetch data from the API.\")\n",
    "\n",
    "print(data)"
   ]
  },
  {
   "cell_type": "code",
   "execution_count": 2,
   "id": "fffd7091-6b28-4d1b-94c1-d796b20b55a9",
   "metadata": {},
   "outputs": [
    {
     "name": "stdout",
     "output_type": "stream",
     "text": [
      "{'frc': 'FRC3', 'currentSpeed': 20, 'freeFlowSpeed': 25, 'currentTravelTime': 476, 'freeFlowTravelTime': 380, 'confidence': 1, 'roadClosure': False, 'coordinates': {'coordinate': [{'latitude': -7.775915122920772, 'longitude': 110.37372155908088}, {'latitude': -7.775939114784156, 'longitude': 110.37371442112573}, {'latitude': -7.775823065501294, 'longitude': 110.37368207762717}, {'latitude': -7.775462095468249, 'longitude': 110.37382837447575}, {'latitude': -7.775001595671484, 'longitude': 110.3740131117246}, {'latitude': -7.774754363812576, 'longitude': 110.37412499344799}, {'latitude': -7.774712552414544, 'longitude': 110.37418771592155}, {'latitude': -7.77469053221833, 'longitude': 110.37419719465396}, {'latitude': -7.774040699969358, 'longitude': 110.37446547063104}, {'latitude': -7.773892623055187, 'longitude': 110.37453111709175}, {'latitude': -7.773636495283049, 'longitude': 110.37464261537048}, {'latitude': -7.773684815908176, 'longitude': 110.37462168570482}, {'latitude': -7.773607789931607, 'longitude': 110.37461222165632}, {'latitude': -7.773302742976382, 'longitude': 110.37474497559214}, {'latitude': -7.77318631026815, 'longitude': 110.37479179080799}, {'latitude': -7.772551008286387, 'longitude': 110.37505163520922}, {'latitude': -7.772321956640143, 'longitude': 110.37515149501559}, {'latitude': -7.771746290402602, 'longitude': 110.37538336332688}, {'latitude': -7.771665705752622, 'longitude': 110.37541737619773}, {'latitude': -7.771460543743084, 'longitude': 110.3754960569579}, {'latitude': -7.771315816819528, 'longitude': 110.37556224020346}, {'latitude': -7.771005513728731, 'longitude': 110.37568584080157}, {'latitude': -7.770795026962836, 'longitude': 110.37576661180015}, {'latitude': -7.770771523018969, 'longitude': 110.37577574183348}, {'latitude': -7.770272613069695, 'longitude': 110.37596598717903}, {'latitude': -7.769622059946656, 'longitude': 110.3762776198185}, {'latitude': -7.769340621123551, 'longitude': 110.37639805231089}, {'latitude': -7.769324845946047, 'longitude': 110.37640461780774}, {'latitude': -7.769053556933365, 'longitude': 110.37652036152105}, {'latitude': -7.768653462894778, 'longitude': 110.37665596861501}, {'latitude': -7.768541197310195, 'longitude': 110.37670405582736}, {'latitude': -7.768191440410501, 'longitude': 110.37684607629814}, {'latitude': -7.767961494015971, 'longitude': 110.37693860058619}, {'latitude': -7.766838183172715, 'longitude': 110.37740855415319}, {'latitude': -7.765642565632282, 'longitude': 110.37788142180409}, {'latitude': -7.765563393986644, 'longitude': 110.37791514294321}, {'latitude': -7.765493244735251, 'longitude': 110.37794466154537}, {'latitude': -7.765234418579212, 'longitude': 110.37804873936636}, {'latitude': -7.765149430729204, 'longitude': 110.37808622061334}, {'latitude': -7.764674019652466, 'longitude': 110.37828803647454}, {'latitude': -7.764247479528184, 'longitude': 110.37846837330841}, {'latitude': -7.76413496452879, 'longitude': 110.37851677155794}, {'latitude': -7.763609257843175, 'longitude': 110.3787333915185}, {'latitude': -7.763562476461762, 'longitude': 110.37875210177049}, {'latitude': -7.763455065159768, 'longitude': 110.37879363759959}, {'latitude': -7.762756617566504, 'longitude': 110.37909068747746}, {'latitude': -7.762607533403107, 'longitude': 110.37914746596903}, {'latitude': -7.762521956339303, 'longitude': 110.37918651956011}, {'latitude': -7.762183052740741, 'longitude': 110.37932727718015}, {'latitude': -7.761897958774807, 'longitude': 110.37944670330643}, {'latitude': -7.761838554946022, 'longitude': 110.37946859922954}, {'latitude': -7.761816301018745, 'longitude': 110.37947654956656}, {'latitude': -7.761775840804969, 'longitude': 110.3794919678399}, {'latitude': -7.761468024506915, 'longitude': 110.37961564876093}, {'latitude': -7.761182085315307, 'longitude': 110.37973242414046}, {'latitude': -7.760882337843507, 'longitude': 110.3798531331114}, {'latitude': -7.760807040668669, 'longitude': 110.37988296223597}, {'latitude': -7.760399473750516, 'longitude': 110.38005345634326}, {'latitude': -7.76011545595877, 'longitude': 110.38018014935648}, {'latitude': -7.759790711256881, 'longitude': 110.38031403146414}, {'latitude': -7.759612802738701, 'longitude': 110.38039081122633}, {'latitude': -7.759370958809408, 'longitude': 110.38048282343959}, {'latitude': -7.759226131670657, 'longitude': 110.38054268166309}, {'latitude': -7.759042984738892, 'longitude': 110.38061593905331}, {'latitude': -7.758833953821955, 'longitude': 110.38070396896552}, {'latitude': -7.758399517185373, 'longitude': 110.38088623550539}, {'latitude': -7.758227618677274, 'longitude': 110.38096473161312}, {'latitude': -7.757742063485847, 'longitude': 110.38117134149894}, {'latitude': -7.757080040946125, 'longitude': 110.38145015863341}, {'latitude': -7.756776346632422, 'longitude': 110.38156818309062}, {'latitude': -7.756500968351631, 'longitude': 110.38168064925134}, {'latitude': -7.755966966654424, 'longitude': 110.38192689970953}, {'latitude': -7.755756697701017, 'longitude': 110.3820261100754}, {'latitude': -7.755491559588681, 'longitude': 110.38216984587007}, {'latitude': -7.755223618097399, 'longitude': 110.38230781607274}, {'latitude': -7.754799342203913, 'longitude': 110.38253724480131}, {'latitude': -7.754571562042252, 'longitude': 110.38266696772496}, {'latitude': -7.754513843166174, 'longitude': 110.38270758350194}, {'latitude': -7.754468243097399, 'longitude': 110.38273844782822}, {'latitude': -7.754395830927124, 'longitude': 110.38279095223436}, {'latitude': -7.754350100539829, 'longitude': 110.38282287721898}, {'latitude': -7.75419741317883, 'longitude': 110.38293488372011}]}, '@version': 'traffic-service-flow 1.0.100'}\n"
     ]
    }
   ],
   "source": [
    "print(data[\"flowSegmentData\"])"
   ]
  },
  {
   "cell_type": "code",
   "execution_count": 3,
   "id": "36d5ef05-3882-4b03-9b09-2338b7e30cf9",
   "metadata": {},
   "outputs": [],
   "source": [
    "df_traffic = pd.DataFrame(data[\"flowSegmentData\"])"
   ]
  },
  {
   "cell_type": "code",
   "execution_count": 4,
   "id": "639fac90-62b4-4e0c-88af-65e3cd3a02f6",
   "metadata": {},
   "outputs": [
    {
     "data": {
      "text/html": [
       "<div>\n",
       "<style scoped>\n",
       "    .dataframe tbody tr th:only-of-type {\n",
       "        vertical-align: middle;\n",
       "    }\n",
       "\n",
       "    .dataframe tbody tr th {\n",
       "        vertical-align: top;\n",
       "    }\n",
       "\n",
       "    .dataframe thead th {\n",
       "        text-align: right;\n",
       "    }\n",
       "</style>\n",
       "<table border=\"1\" class=\"dataframe\">\n",
       "  <thead>\n",
       "    <tr style=\"text-align: right;\">\n",
       "      <th></th>\n",
       "      <th>frc</th>\n",
       "      <th>currentSpeed</th>\n",
       "      <th>freeFlowSpeed</th>\n",
       "      <th>currentTravelTime</th>\n",
       "      <th>freeFlowTravelTime</th>\n",
       "      <th>confidence</th>\n",
       "      <th>roadClosure</th>\n",
       "      <th>coordinates</th>\n",
       "      <th>@version</th>\n",
       "    </tr>\n",
       "  </thead>\n",
       "  <tbody>\n",
       "    <tr>\n",
       "      <th>coordinate</th>\n",
       "      <td>FRC3</td>\n",
       "      <td>20</td>\n",
       "      <td>25</td>\n",
       "      <td>476</td>\n",
       "      <td>380</td>\n",
       "      <td>1</td>\n",
       "      <td>False</td>\n",
       "      <td>[{'latitude': -7.775915122920772, 'longitude':...</td>\n",
       "      <td>traffic-service-flow 1.0.100</td>\n",
       "    </tr>\n",
       "  </tbody>\n",
       "</table>\n",
       "</div>"
      ],
      "text/plain": [
       "             frc  currentSpeed  freeFlowSpeed  currentTravelTime  \\\n",
       "coordinate  FRC3            20             25                476   \n",
       "\n",
       "            freeFlowTravelTime  confidence  roadClosure  \\\n",
       "coordinate                 380           1        False   \n",
       "\n",
       "                                                  coordinates  \\\n",
       "coordinate  [{'latitude': -7.775915122920772, 'longitude':...   \n",
       "\n",
       "                                @version  \n",
       "coordinate  traffic-service-flow 1.0.100  "
      ]
     },
     "execution_count": 4,
     "metadata": {},
     "output_type": "execute_result"
    }
   ],
   "source": [
    "df_traffic.head()"
   ]
  },
  {
   "cell_type": "code",
   "execution_count": 5,
   "id": "9ec0640f-10be-445f-86b9-977a84bd0832",
   "metadata": {},
   "outputs": [
    {
     "data": {
      "text/html": [
       "<div>\n",
       "<style scoped>\n",
       "    .dataframe tbody tr th:only-of-type {\n",
       "        vertical-align: middle;\n",
       "    }\n",
       "\n",
       "    .dataframe tbody tr th {\n",
       "        vertical-align: top;\n",
       "    }\n",
       "\n",
       "    .dataframe thead th {\n",
       "        text-align: right;\n",
       "    }\n",
       "</style>\n",
       "<table border=\"1\" class=\"dataframe\">\n",
       "  <thead>\n",
       "    <tr style=\"text-align: right;\">\n",
       "      <th></th>\n",
       "      <th>index</th>\n",
       "      <th>frc</th>\n",
       "      <th>currentSpeed</th>\n",
       "      <th>freeFlowSpeed</th>\n",
       "      <th>currentTravelTime</th>\n",
       "      <th>freeFlowTravelTime</th>\n",
       "      <th>confidence</th>\n",
       "      <th>roadClosure</th>\n",
       "      <th>coordinates</th>\n",
       "      <th>@version</th>\n",
       "    </tr>\n",
       "  </thead>\n",
       "  <tbody>\n",
       "    <tr>\n",
       "      <th>0</th>\n",
       "      <td>coordinate</td>\n",
       "      <td>FRC3</td>\n",
       "      <td>20</td>\n",
       "      <td>25</td>\n",
       "      <td>476</td>\n",
       "      <td>380</td>\n",
       "      <td>1</td>\n",
       "      <td>False</td>\n",
       "      <td>[{'latitude': -7.775915122920772, 'longitude':...</td>\n",
       "      <td>traffic-service-flow 1.0.100</td>\n",
       "    </tr>\n",
       "  </tbody>\n",
       "</table>\n",
       "</div>"
      ],
      "text/plain": [
       "        index   frc  currentSpeed  freeFlowSpeed  currentTravelTime  \\\n",
       "0  coordinate  FRC3            20             25                476   \n",
       "\n",
       "   freeFlowTravelTime  confidence  roadClosure  \\\n",
       "0                 380           1        False   \n",
       "\n",
       "                                         coordinates  \\\n",
       "0  [{'latitude': -7.775915122920772, 'longitude':...   \n",
       "\n",
       "                       @version  \n",
       "0  traffic-service-flow 1.0.100  "
      ]
     },
     "execution_count": 5,
     "metadata": {},
     "output_type": "execute_result"
    }
   ],
   "source": [
    "df_traffic = df_traffic.reset_index()\n",
    "df_traffic"
   ]
  },
  {
   "cell_type": "code",
   "execution_count": 10,
   "id": "8013e9a8-e6e3-4cef-b0c1-05a890a066db",
   "metadata": {},
   "outputs": [
    {
     "data": {
      "text/html": [
       "<div>\n",
       "<style scoped>\n",
       "    .dataframe tbody tr th:only-of-type {\n",
       "        vertical-align: middle;\n",
       "    }\n",
       "\n",
       "    .dataframe tbody tr th {\n",
       "        vertical-align: top;\n",
       "    }\n",
       "\n",
       "    .dataframe thead th {\n",
       "        text-align: right;\n",
       "    }\n",
       "</style>\n",
       "<table border=\"1\" class=\"dataframe\">\n",
       "  <thead>\n",
       "    <tr style=\"text-align: right;\">\n",
       "      <th></th>\n",
       "      <th>currentSpeed</th>\n",
       "      <th>freeFlowSpeed</th>\n",
       "      <th>confidence</th>\n",
       "      <th>roadClosure</th>\n",
       "    </tr>\n",
       "  </thead>\n",
       "  <tbody>\n",
       "    <tr>\n",
       "      <th>0</th>\n",
       "      <td>20</td>\n",
       "      <td>25</td>\n",
       "      <td>1</td>\n",
       "      <td>False</td>\n",
       "    </tr>\n",
       "  </tbody>\n",
       "</table>\n",
       "</div>"
      ],
      "text/plain": [
       "   currentSpeed  freeFlowSpeed  confidence  roadClosure\n",
       "0            20             25           1        False"
      ]
     },
     "execution_count": 10,
     "metadata": {},
     "output_type": "execute_result"
    }
   ],
   "source": [
    "df_traffic = df_traffic.loc[:,[\"currentSpeed\",\"freeFlowSpeed\",\"confidence\",\"roadClosure\"]]\n",
    "df_traffic"
   ]
  },
  {
   "cell_type": "code",
   "execution_count": 11,
   "id": "ab81cb96-0587-4768-b9ae-9ea3454914fa",
   "metadata": {},
   "outputs": [
    {
     "name": "stdout",
     "output_type": "stream",
     "text": [
      "<class 'pandas.core.frame.DataFrame'>\n",
      "RangeIndex: 1 entries, 0 to 0\n",
      "Data columns (total 4 columns):\n",
      " #   Column         Non-Null Count  Dtype\n",
      "---  ------         --------------  -----\n",
      " 0   currentSpeed   1 non-null      int64\n",
      " 1   freeFlowSpeed  1 non-null      int64\n",
      " 2   confidence     1 non-null      int64\n",
      " 3   roadClosure    1 non-null      bool \n",
      "dtypes: bool(1), int64(3)\n",
      "memory usage: 153.0 bytes\n"
     ]
    }
   ],
   "source": [
    "df_traffic.info()"
   ]
  },
  {
   "cell_type": "code",
   "execution_count": 12,
   "id": "521b2d3f-9a89-4047-8b4d-44718b2113b1",
   "metadata": {},
   "outputs": [],
   "source": [
    "from datetime import datetime\n",
    "df_traffic['Timestamp'] = datetime.now()"
   ]
  },
  {
   "cell_type": "code",
   "execution_count": 13,
   "id": "ab48bc15-786e-4bd2-8c51-30a32e3e4ca0",
   "metadata": {},
   "outputs": [
    {
     "data": {
      "text/html": [
       "<div>\n",
       "<style scoped>\n",
       "    .dataframe tbody tr th:only-of-type {\n",
       "        vertical-align: middle;\n",
       "    }\n",
       "\n",
       "    .dataframe tbody tr th {\n",
       "        vertical-align: top;\n",
       "    }\n",
       "\n",
       "    .dataframe thead th {\n",
       "        text-align: right;\n",
       "    }\n",
       "</style>\n",
       "<table border=\"1\" class=\"dataframe\">\n",
       "  <thead>\n",
       "    <tr style=\"text-align: right;\">\n",
       "      <th></th>\n",
       "      <th>currentSpeed</th>\n",
       "      <th>freeFlowSpeed</th>\n",
       "      <th>confidence</th>\n",
       "      <th>roadClosure</th>\n",
       "      <th>Timestamp</th>\n",
       "    </tr>\n",
       "  </thead>\n",
       "  <tbody>\n",
       "    <tr>\n",
       "      <th>0</th>\n",
       "      <td>20</td>\n",
       "      <td>25</td>\n",
       "      <td>1</td>\n",
       "      <td>False</td>\n",
       "      <td>2023-11-08 17:01:26.479958</td>\n",
       "    </tr>\n",
       "  </tbody>\n",
       "</table>\n",
       "</div>"
      ],
      "text/plain": [
       "   currentSpeed  freeFlowSpeed  confidence  roadClosure  \\\n",
       "0            20             25           1        False   \n",
       "\n",
       "                   Timestamp  \n",
       "0 2023-11-08 17:01:26.479958  "
      ]
     },
     "execution_count": 13,
     "metadata": {},
     "output_type": "execute_result"
    }
   ],
   "source": [
    "df_traffic"
   ]
  },
  {
   "cell_type": "code",
   "execution_count": null,
   "id": "ea16e77b-dd1d-481e-af7d-c60a8844af59",
   "metadata": {},
   "outputs": [],
   "source": []
  }
 ],
 "metadata": {
  "kernelspec": {
   "display_name": "Python 3 (ipykernel)",
   "language": "python",
   "name": "python3"
  },
  "language_info": {
   "codemirror_mode": {
    "name": "ipython",
    "version": 3
   },
   "file_extension": ".py",
   "mimetype": "text/x-python",
   "name": "python",
   "nbconvert_exporter": "python",
   "pygments_lexer": "ipython3",
   "version": "3.10.0"
  }
 },
 "nbformat": 4,
 "nbformat_minor": 5
}
