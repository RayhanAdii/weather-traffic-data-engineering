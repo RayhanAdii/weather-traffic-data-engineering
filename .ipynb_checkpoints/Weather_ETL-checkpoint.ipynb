{
 "cells": [
  {
   "cell_type": "code",
   "execution_count": 1,
   "id": "877a558b-1d1c-418a-ba05-e27cac2f3eea",
   "metadata": {},
   "outputs": [
    {
     "name": "stdout",
     "output_type": "stream",
     "text": [
      "                      latitude  longitude  generationtime_ms  \\\n",
      "time                     -7.75    110.375           0.054955   \n",
      "temperature_2m           -7.75    110.375           0.054955   \n",
      "relative_humidity_2m     -7.75    110.375           0.054955   \n",
      "wind_speed_10m           -7.75    110.375           0.054955   \n",
      "\n",
      "                      utc_offset_seconds timezone timezone_abbreviation  \\\n",
      "time                                   0      GMT                   GMT   \n",
      "temperature_2m                         0      GMT                   GMT   \n",
      "relative_humidity_2m                   0      GMT                   GMT   \n",
      "wind_speed_10m                         0      GMT                   GMT   \n",
      "\n",
      "                      elevation hourly_units  \\\n",
      "time                      150.0      iso8601   \n",
      "temperature_2m            150.0           °C   \n",
      "relative_humidity_2m      150.0            %   \n",
      "wind_speed_10m            150.0         km/h   \n",
      "\n",
      "                                                                 hourly  \n",
      "time                  [2023-10-29T00:00, 2023-10-29T01:00, 2023-10-2...  \n",
      "temperature_2m        [26.4, 28.2, 30.2, 32.3, 34.0, 34.6, 34.3, 32....  \n",
      "relative_humidity_2m  [80, 71, 62, 52, 46, 42, 41, 55, 56, 61, 62, 6...  \n",
      "wind_speed_10m        [3.3, 4.7, 6.6, 8.0, 8.7, 12.4, 15.8, 18.9, 15...  \n"
     ]
    }
   ],
   "source": [
    "import requests\n",
    "import pandas as pd\n",
    "\n",
    "api_url = \"https://api.open-meteo.com/v1/forecast?latitude=-7.761175&longitude=110.380499&past_days=10&hourly=temperature_2m,relative_humidity_2m,wind_speed_10m\"  # Replace with the API URL you want to fetch data from\n",
    "response = requests.get(api_url)\n",
    "\n",
    "if response.status_code == 200:\n",
    "    data = response.json()  # Assuming the API returns JSON data\n",
    "    df = pd.DataFrame(data)\n",
    "else:\n",
    "    print(\"Failed to fetch data from the API.\")\n",
    "\n",
    "\n",
    "\n",
    "df"
   ]
  },
  {
   "cell_type": "code",
   "execution_count": null,
   "id": "c6cab29d-6721-456f-b140-874399e702fa",
   "metadata": {},
   "outputs": [],
   "source": []
  }
 ],
 "metadata": {
  "kernelspec": {
   "display_name": "Python 3 (ipykernel)",
   "language": "python",
   "name": "python3"
  },
  "language_info": {
   "codemirror_mode": {
    "name": "ipython",
    "version": 3
   },
   "file_extension": ".py",
   "mimetype": "text/x-python",
   "name": "python",
   "nbconvert_exporter": "python",
   "pygments_lexer": "ipython3",
   "version": "3.10.0"
  }
 },
 "nbformat": 4,
 "nbformat_minor": 5
}
